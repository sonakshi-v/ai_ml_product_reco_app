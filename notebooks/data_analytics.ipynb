{
 "cells": [
  {
   "cell_type": "markdown",
   "metadata": {},
   "source": [
    "# Furniture Dataset Analytics\n",
    "\n",
    "This notebook performs exploratory data analysis (EDA) on the furniture dataset to understand its structure, distributions, and key insights. We'll clean the data, handle missing values, and prepare it for modeling."
   ]
  },
  {
   "cell_type": "code",
   "execution_count": null,
   "metadata": {},
   "outputs": [],
   "source": [
    "import pandas as pd\n",
    "import numpy as np\n",
    "import matplotlib.pyplot as plt\n",
    "import seaborn as sns\n",
    "from ast import literal_eval\n",
    "import warnings\n",
    "warnings.filterwarnings('ignore')\n",
    "\n",
    "# Set style for plots\n",
    "plt.style.use('seaborn-v0_8')\n",
    "sns.set_palette(\"husl\")"
   ]
  },
  {
   "cell_type": "markdown",
   "metadata": {},
   "source": [
    "## 1. Data Loading and Initial Inspection"
   ]
  },
  {
   "cell_type": "code",
   "execution_count": null,
   "metadata": {},
   "outputs": [],
   "source": [
    "# Load the dataset\n",
    "df = pd.read_csv('../data/furniture_dataset.csv')\n",
    "print(f\"Dataset shape: {df.shape}\")\n",
    "print(\"\\nColumns:\")\n",
    "for col in df.columns:\n",
    "    print(f\"- {col}\")\n",
    "\n",
    "print(\"\\nFirst 5 rows:\")\n",
    "df.head()"
   ]
  },
  {
   "cell_type": "code",
   "execution_count": null,
   "metadata": {},
   "outputs": [],
   "source": [
    "# Data types and missing values\n",
    "print(\"Data types and missing values:\")\n",
    "df.info()\n",
    "\n",
    "print(\"\\nMissing values count:\")\n",
    "df.isnull().sum()"
   ]
  },
  {
   "cell_type": "markdown",
   "metadata": {},
   "source": [
    "## 2. Data Cleaning and Preprocessing"
   ]
  },
  {
   "cell_type": "code",
   "execution_count": null,
   "metadata": {},
   "outputs": [],
   "source": [
    "# Clean price column - remove $ and convert to float\n",
    "df['price'] = df['price'].str.replace('$', '').astype(float)\n",
    "\n",
    "# Parse categories from string to list\n",
    "df['categories'] = df['categories'].apply(lambda x: literal_eval(x) if pd.notnull(x) else [])\n",
    "\n",
    "# Parse images from string to list and take first image\n",
    "df['images'] = df['images'].apply(lambda x: literal_eval(x)[0].strip() if pd.notnull(x) and literal_eval(x) else None)\n",
    "\n",
    "# Fill missing values\n",
    "df['brand'] = df['brand'].fillna('Unknown')\n",
    "df['description'] = df['description'].fillna('')\n",
    "df['price'] = df['price'].fillna(df['price'].median())\n",
    "df['material'] = df['material'].fillna('Unknown')\n",
    "df['color'] = df['color'].fillna('Unknown')\n",
    "df['country_of_origin'] = df['country_of_origin'].fillna('Unknown')\n",
    "\n",
    "print(\"Data after cleaning:\")\n",
    "df.info()"
   ]
  },
  {
   "cell_type": "markdown",
   "metadata": {},
   "source": [
    "## 3. Exploratory Data Analysis"
   ]
  },
  {
   "cell_type": "code",
   "execution_count": null,
   "metadata": {},
   "outputs": [],
   "source": [
    "# Price distribution\n",
    "plt.figure(figsize=(10, 6))\n",
    "sns.histplot(df['price'], bins=50, kde=True)\n",
    "plt.title('Price Distribution')\n",
    "plt.xlabel('Price ($)')\n",
    "plt.ylabel('Frequency')\n",
    "plt.show()\n",
    "\n",
    "print(f\"Price statistics:\")\n",
    "print(df['price'].describe())"
   ]
  },
  {
   "cell_type": "code",
   "execution_count": null,
   "metadata": {},
   "outputs": [],
   "source": [
    "# Top brands\n",
    "plt.figure(figsize=(12, 6))\n",
    "top_brands = df['brand'].value_counts().head(10)\n",
    "sns.barplot(x=top_brands.values, y=top_brands.index)\n",
    "plt.title('Top 10 Brands')\n",
    "plt.xlabel('Count')\n",
    "plt.show()"
   ]
  },
  {
   "cell_type": "code",
   "execution_count": null,
   "metadata": {},
   "outputs": [],
   "source": [
    "# Categories analysis\n",
    "all_categories = [cat for sublist in df['categories'] for cat in sublist]\n",
    "category_counts = pd.Series(all_categories).value_counts().head(15)\n",
    "\n",
    "plt.figure(figsize=(12, 8))\n",
    "sns.barplot(x=category_counts.values, y=category_counts.index)\n",
    "plt.title('Top 15 Categories')\n",
    "plt.xlabel('Count')\n",
    "plt.show()"
   ]
  },
  {
   "cell_type": "code",
   "execution_count": null,
   "metadata": {},
   "outputs": [],
   "source": [
    "# Material and color distributions\n",
    "fig, (ax1, ax2) = plt.subplots(1, 2, figsize=(15, 6))\n",
    "\n",
    "material_counts = df['material'].value_counts().head(10)\n",
    "sns.barplot(x=material_counts.values, y=material_counts.index, ax=ax1)\n",
    "ax1.set_title('Top 10 Materials')\n",
    "ax1.set_xlabel('Count')\n",
    "\n",
    "color_counts = df['color'].value_counts().head(10)\n",
    "sns.barplot(x=color_counts.values, y=color_counts.index, ax=ax2)\n",
    "ax2.set_title('Top 10 Colors')\n",
    "ax2.set_xlabel('Count')\n",
    "\n",
    "plt.tight_layout()\n",
    "plt.show()"
   ]
  },
  {
   "cell_type": "code",
   "execution_count": null,
   "metadata": {},
   "outputs": [],
   "source": [
    "# Price by category\n",
    "df_exploded = df.explode('categories')\n",
    "top_categories = df_exploded['categories'].value_counts().head(5).index\n",
    "df_top_cat = df_exploded[df_exploded['categories'].isin(top_categories)]\n",
    "\n",
    "plt.figure(figsize=(12, 6))\n",
    "sns.boxplot(x='categories', y='price', data=df_top_cat)\n",
    "plt.title('Price Distribution by Top Categories')\n",
    "plt.xticks(rotation=45)\n",
    "plt.show()"
   ]
  },
  {
   "cell_type": "code",
   "execution_count": null,
   "metadata": {},
   "outputs": [],
   "source": [
    "# Country of origin\n",
    "plt.figure(figsize=(10, 6))\n",
    "country_counts = df['country_of_origin'].value_counts().head(10)\n",
    "sns.barplot(x=country_counts.values, y=country_counts.index)\n",
    "plt.title('Top 10 Countries of Origin')\n",
    "plt.xlabel('Count')\n",
    "plt.show()"
   ]
  },
  {
   "cell_type": "markdown",
   "metadata": {},
   "source": [
    "## 4. Text Analysis Preparation"
   ]
  },
  {
   "cell_type": "code",
   "execution_count": null,
   "metadata": {},
   "outputs": [],
   "source": [
    "# Combine title and description for text analysis\n",
    "df['combined_text'] = df['title'] + ' ' + df['description']\n",
    "\n",
    "# Text length analysis\n",
    "df['text_length'] = df['combined_text'].str.len()\n",
    "\n",
    "plt.figure(figsize=(10, 6))\n",
    "sns.histplot(df['text_length'], bins=50, kde=True)\n",
    "plt.title('Text Length Distribution')\n",
    "plt.xlabel('Text Length')\n",
    "plt.ylabel('Frequency')\n",
    "plt.show()\n",
    "\n",
    "print(f\"Text length statistics:\")\n",
    "print(df['text_length'].describe())"
   ]
  },
  {
   "cell_type": "markdown",
   "metadata": {},
   "source": [
    "## 5. Image Analysis"
   ]
  },
  {
   "cell_type": "code",
   "execution_count": null,
   "metadata": {},
   "outputs": [],
   "source": [
    "# Check image URLs\n",
    "print(f\"Products with images: {df['images'].notnull().sum()}\")\n",
    "print(f\"Total products: {len(df)}\")\n",
    "print(f\"Percentage with images: {df['images'].notnull().sum() / len(df) * 100:.2f}%\")\n",
    "\n",
    "# Sample image URLs\n",
    "print(\"\\nSample image URLs:\")\n",
    "for url in df['images'].dropna().head(5):\n",
    "    print(url)"
   ]
  },
  {
   "cell_type": "markdown",
   "metadata": {},
   "source": [
    "## 6. Summary and Insights"
   ]
  },
  {
   "cell_type": "code",
   "execution_count": null,
   "metadata": {},
   "outputs": [],
   "source": [
    "print(\"Dataset Summary:\")\n",
    "print(f\"- Total products: {len(df)}\")\n",
    "print(f\"- Unique brands: {df['brand'].nunique()}\")\n",
    "print(f\"- Unique categories: {len(set(all_categories))}\")\n",
    "print(f\"- Price range: ${df['price'].min():.2f} - ${df['price'].max():.2f}\")\n",
    "print(f\"- Average price: ${df['price'].mean():.2f}\")\n",
    "print(f\"- Products with images: {df['images'].notnull().sum()} ({df['images'].notnull().sum() / len(df) * 100:.1f}%)\")\n",
    "\n",
    "print(\"\\nKey Insights:\")\n",
    "print(\"1. Most products are in the Home & Kitchen category\")\n",
    "print(\"2. China is the most common country of origin\")\n",
    "print(\"3. Price distribution is right-skewed with most products under $100\")\n",
    "print(\"4. High percentage of products have image URLs\")\n",
    "print(\"5. Text descriptions vary significantly in length\")"
   ]
  },
  {
   "cell_type": "code",
   "execution_count": null,
   "metadata": {},
   "outputs": [],
   "source": [
    "# Save cleaned dataset\n",
    "df.to_csv('../data/furniture_dataset_cleaned.csv', index=False)\n",
    "print(\"Cleaned dataset saved to ../data/furniture_dataset_cleaned.csv\")"
   ]
  }
 ],
 "metadata": {
  "kernelspec": {
   "display_name": "Python 3",
   "language": "python",
   "name": "python3"
  },
  "language_info": {
   "codemirror_mode": {
    "name": "ipython",
    "version": 3
   },
   "file_extension": ".py",
   "mimetype": "text/x-python",
   "name": "python",
   "nbconvert_exporter": "python",
   "pygments_lexer": "ipython3",
   "version": "3.8.5"
  }
 },
 "nbformat": 4,
 "nbformat_minor": 4
}
